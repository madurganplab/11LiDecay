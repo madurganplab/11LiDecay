{
 "cells": [
  {
   "cell_type": "markdown",
   "metadata": {},
   "source": [
    "# 11Be particle gun generator\n",
    "\n",
    "Let's do some nuclear particle emission\n",
    "\n",
    "## Spherical neutron gun"
   ]
  },
  {
   "cell_type": "code",
   "execution_count": null,
   "metadata": {},
   "outputs": [],
   "source": [
    "#neutron particle gun \n",
    "\n",
    "#here random theta=[0,pi]\n",
    "\n",
    "#here random phi=[0,2pi]"
   ]
  }
 ],
 "metadata": {
  "interpreter": {
   "hash": "7526fd8fae14b9deb386417734b23e6975d650cb873780f264a86868b5623d12"
  },
  "kernelspec": {
   "display_name": "Python 3.9.6 64-bit ('base': conda)",
   "language": "python",
   "name": "python3"
  },
  "language_info": {
   "name": "python",
   "version": "3.9.6"
  },
  "orig_nbformat": 4
 },
 "nbformat": 4,
 "nbformat_minor": 2
}
